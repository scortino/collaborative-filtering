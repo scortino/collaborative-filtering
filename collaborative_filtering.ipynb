{
 "cells": [
  {
   "cell_type": "markdown",
   "metadata": {},
   "source": [
    "## 0. Imports"
   ]
  },
  {
   "cell_type": "code",
   "execution_count": 1,
   "metadata": {},
   "outputs": [],
   "source": [
    "%reload_ext autoreload\n",
    "%autoreload 2\n",
    "%matplotlib inline"
   ]
  },
  {
   "cell_type": "code",
   "execution_count": 2,
   "metadata": {},
   "outputs": [],
   "source": [
    "from pathlib import Path\n",
    "import pandas as pd\n",
    "from nn_utils import *"
   ]
  },
  {
   "cell_type": "markdown",
   "metadata": {},
   "source": [
    "## 1. Dataset"
   ]
  },
  {
   "cell_type": "code",
   "execution_count": 3,
   "metadata": {},
   "outputs": [],
   "source": [
    "path = Path('./data/ml-latest-small')"
   ]
  },
  {
   "cell_type": "code",
   "execution_count": 4,
   "metadata": {},
   "outputs": [],
   "source": [
    "ratings_df = pd.read_csv(path / 'ratings.csv')\n",
    "movies_df = pd.read_csv(path / 'movies.csv')\n",
    "id_to_movie = dict(zip(movies_df['movieId'], movies_df['title']))"
   ]
  },
  {
   "cell_type": "code",
   "execution_count": 5,
   "metadata": {
    "scrolled": false
   },
   "outputs": [
    {
     "data": {
      "text/html": [
       "<div>\n",
       "<style scoped>\n",
       "    .dataframe tbody tr th:only-of-type {\n",
       "        vertical-align: middle;\n",
       "    }\n",
       "\n",
       "    .dataframe tbody tr th {\n",
       "        vertical-align: top;\n",
       "    }\n",
       "\n",
       "    .dataframe thead th {\n",
       "        text-align: right;\n",
       "    }\n",
       "</style>\n",
       "<table border=\"1\" class=\"dataframe\">\n",
       "  <thead>\n",
       "    <tr style=\"text-align: right;\">\n",
       "      <th></th>\n",
       "      <th>userId</th>\n",
       "      <th>movieId</th>\n",
       "      <th>rating</th>\n",
       "      <th>timestamp</th>\n",
       "    </tr>\n",
       "  </thead>\n",
       "  <tbody>\n",
       "    <tr>\n",
       "      <th>0</th>\n",
       "      <td>1</td>\n",
       "      <td>1</td>\n",
       "      <td>4.0</td>\n",
       "      <td>964982703</td>\n",
       "    </tr>\n",
       "    <tr>\n",
       "      <th>1</th>\n",
       "      <td>1</td>\n",
       "      <td>3</td>\n",
       "      <td>4.0</td>\n",
       "      <td>964981247</td>\n",
       "    </tr>\n",
       "    <tr>\n",
       "      <th>2</th>\n",
       "      <td>1</td>\n",
       "      <td>6</td>\n",
       "      <td>4.0</td>\n",
       "      <td>964982224</td>\n",
       "    </tr>\n",
       "    <tr>\n",
       "      <th>3</th>\n",
       "      <td>1</td>\n",
       "      <td>47</td>\n",
       "      <td>5.0</td>\n",
       "      <td>964983815</td>\n",
       "    </tr>\n",
       "    <tr>\n",
       "      <th>4</th>\n",
       "      <td>1</td>\n",
       "      <td>50</td>\n",
       "      <td>5.0</td>\n",
       "      <td>964982931</td>\n",
       "    </tr>\n",
       "  </tbody>\n",
       "</table>\n",
       "</div>"
      ],
      "text/plain": [
       "   userId  movieId  rating  timestamp\n",
       "0       1        1     4.0  964982703\n",
       "1       1        3     4.0  964981247\n",
       "2       1        6     4.0  964982224\n",
       "3       1       47     5.0  964983815\n",
       "4       1       50     5.0  964982931"
      ]
     },
     "execution_count": 5,
     "metadata": {},
     "output_type": "execute_result"
    }
   ],
   "source": [
    "ratings_df.head()"
   ]
  },
  {
   "cell_type": "code",
   "execution_count": 6,
   "metadata": {},
   "outputs": [
    {
     "name": "stdout",
     "output_type": "stream",
     "text": [
      "   userId  movieId  rating\n",
      "0   104.0   8145.0     4.5\n",
      "1   554.0   2729.0     4.0\n",
      "2   552.0   5701.0     4.0\n",
      "3   558.0    527.0     3.0\n",
      "4   589.0    257.0     4.5\n",
      "5    88.0   8697.0     3.5\n",
      "6   293.0   1857.0     2.0\n",
      "7   555.0   4421.0     4.0\n",
      "8   155.0   1439.0     3.0\n",
      "9   379.0   6303.0     3.0\n"
     ]
    }
   ],
   "source": [
    "ratings_data = CollabData(ratings_df, test_size=0.2, bs=2048)\n",
    "ratings_data.show_batch()"
   ]
  },
  {
   "cell_type": "markdown",
   "metadata": {},
   "source": [
    "## 2. Model"
   ]
  },
  {
   "cell_type": "markdown",
   "metadata": {},
   "source": [
    "## 3. Learner"
   ]
  },
  {
   "cell_type": "markdown",
   "metadata": {},
   "source": [
    "## 4. Train"
   ]
  },
  {
   "cell_type": "code",
   "execution_count": 7,
   "metadata": {
    "scrolled": true
   },
   "outputs": [
    {
     "data": {
      "text/plain": [
       "EmbedNet(\n",
       "  (u): Embedding(610, 200)\n",
       "  (m): Embedding(9724, 200)\n",
       "  (d): Dropout(p=0.02, inplace=False)\n",
       "  (hidden_fc): Sequential(\n",
       "    (0): Linear(in_features=400, out_features=256, bias=True)\n",
       "    (1): ReLU()\n",
       "    (2): Dropout(p=0.5, inplace=False)\n",
       "    (3): Linear(in_features=256, out_features=128, bias=True)\n",
       "    (4): ReLU()\n",
       "    (5): Dropout(p=0.5, inplace=False)\n",
       "    (6): Linear(in_features=128, out_features=64, bias=True)\n",
       "    (7): ReLU()\n",
       "    (8): Dropout(p=0.35, inplace=False)\n",
       "    (9): Linear(in_features=64, out_features=32, bias=True)\n",
       "    (10): ReLU()\n",
       "    (11): Dropout(p=0.25, inplace=False)\n",
       "  )\n",
       "  (last_fc): Linear(in_features=32, out_features=1, bias=True)\n",
       ")"
      ]
     },
     "execution_count": 7,
     "metadata": {},
     "output_type": "execute_result"
    }
   ],
   "source": [
    "n_factors = 200\n",
    "embedding_dropout = 0.02\n",
    "hidden = [256, 128, 64, 32]\n",
    "dense_dropouts = [0.5, 0.5, 0.35, 0.25]\n",
    "\n",
    "learn = CollabLearner(ratings_data, EmbedNet, n_factors=n_factors, embedding_dropout=embedding_dropout, hidden=hidden, dense_dropouts=dense_dropouts)\n",
    "learn.model"
   ]
  },
  {
   "cell_type": "code",
   "execution_count": 8,
   "metadata": {},
   "outputs": [
    {
     "name": "stdout",
     "output_type": "stream",
     "text": [
      "epoch: 0, train loss: 1.1355032920837402, validation loss: 1.0422738790512085\n",
      "epoch: 1, train loss: 1.0117918252944946, validation loss: 1.004041075706482\n",
      "epoch: 2, train loss: 0.9793491363525391, validation loss: 0.9799113273620605\n",
      "epoch: 3, train loss: 0.9525758624076843, validation loss: 0.960098147392273\n",
      "epoch: 4, train loss: 0.9312750697135925, validation loss: 0.946039080619812\n",
      "epoch: 5, train loss: 0.9090015292167664, validation loss: 0.9338878393173218\n",
      "epoch: 6, train loss: 0.8906547427177429, validation loss: 0.9209505915641785\n",
      "epoch: 7, train loss: 0.8713659048080444, validation loss: 0.9154750108718872\n",
      "epoch: 8, train loss: 0.8575087785720825, validation loss: 0.9117218255996704\n",
      "epoch: 9, train loss: 0.8444257974624634, validation loss: 0.9091752171516418\n",
      "epoch: 10, train loss: 0.8351204991340637, validation loss: 0.9052647352218628\n",
      "epoch: 11, train loss: 0.8272959589958191, validation loss: 0.9075983762741089\n",
      "epoch: 12, train loss: 0.8183246850967407, validation loss: 0.907479465007782\n",
      "epoch: 13, train loss: 0.8108458518981934, validation loss: 0.9005993604660034\n",
      "epoch: 14, train loss: 0.8059344291687012, validation loss: 0.9032886624336243\n",
      "epoch: 15, train loss: 0.8008952140808105, validation loss: 0.9013301730155945\n",
      "epoch: 16, train loss: 0.7935284376144409, validation loss: 0.9024084806442261\n",
      "epoch: 17, train loss: 0.7901142835617065, validation loss: 0.9001057744026184\n",
      "epoch: 18, train loss: 0.7845712900161743, validation loss: 0.9015568494796753\n",
      "epoch: 19, train loss: 0.7793344855308533, validation loss: 0.9020217061042786\n"
     ]
    }
   ],
   "source": [
    "n_epochs = 20\n",
    "lr = 3e-3\n",
    "wd = 1e-5\n",
    "\n",
    "learn.fit(n_epochs, lr, wd)"
   ]
  },
  {
   "cell_type": "markdown",
   "metadata": {},
   "source": [
    "## 5. Predict"
   ]
  },
  {
   "cell_type": "code",
   "execution_count": 9,
   "metadata": {},
   "outputs": [
    {
     "data": {
      "text/plain": [
       "array([[3.50232983, 4.        ],\n",
       "       [2.81311989, 2.        ],\n",
       "       [1.81216836, 1.        ],\n",
       "       ...,\n",
       "       [3.89464378, 4.        ],\n",
       "       [3.71712017, 4.5       ],\n",
       "       [3.55897284, 5.        ]])"
      ]
     },
     "execution_count": 9,
     "metadata": {},
     "output_type": "execute_result"
    }
   ],
   "source": [
    "learn.get_preds('val')"
   ]
  },
  {
   "cell_type": "markdown",
   "metadata": {},
   "source": [
    "## 6. Fine Tuning"
   ]
  },
  {
   "cell_type": "code",
   "execution_count": 10,
   "metadata": {},
   "outputs": [],
   "source": [
    "# TODO"
   ]
  },
  {
   "cell_type": "markdown",
   "metadata": {},
   "source": [
    "## 7. Evaluation"
   ]
  },
  {
   "cell_type": "code",
   "execution_count": 11,
   "metadata": {},
   "outputs": [],
   "source": [
    "# TODO"
   ]
  }
 ],
 "metadata": {
  "kernelspec": {
   "display_name": "Python 3",
   "language": "python",
   "name": "python3"
  },
  "language_info": {
   "codemirror_mode": {
    "name": "ipython",
    "version": 3
   },
   "file_extension": ".py",
   "mimetype": "text/x-python",
   "name": "python",
   "nbconvert_exporter": "python",
   "pygments_lexer": "ipython3",
   "version": "3.6.8"
  }
 },
 "nbformat": 4,
 "nbformat_minor": 2
}