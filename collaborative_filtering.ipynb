{
 "cells": [
  {
   "cell_type": "markdown",
   "metadata": {},
   "source": [
    "## 0. Imports"
   ]
  },
  {
   "cell_type": "code",
   "execution_count": 2,
   "metadata": {},
   "outputs": [],
   "source": [
    "%reload_ext autoreload\n",
    "%autoreload 2\n",
    "%matplotlib inline"
   ]
  },
  {
   "cell_type": "code",
   "execution_count": 3,
   "metadata": {},
   "outputs": [],
   "source": [
    "from pathlib import Path\n",
    "import pandas as pd\n",
    "from utils.generic import *\n",
    "from utils.nn import *"
   ]
  },
  {
   "cell_type": "markdown",
   "metadata": {},
   "source": [
    "## 1. Importing the Dataset"
   ]
  },
  {
   "cell_type": "code",
   "execution_count": 4,
   "metadata": {},
   "outputs": [],
   "source": [
    "path = Path('./data')"
   ]
  },
  {
   "cell_type": "markdown",
   "metadata": {},
   "source": [
    "MovieLens Latest Small"
   ]
  },
  {
   "cell_type": "code",
   "execution_count": 5,
   "metadata": {},
   "outputs": [
    {
     "data": {
      "text/html": [
       "<div>\n",
       "<style scoped>\n",
       "    .dataframe tbody tr th:only-of-type {\n",
       "        vertical-align: middle;\n",
       "    }\n",
       "\n",
       "    .dataframe tbody tr th {\n",
       "        vertical-align: top;\n",
       "    }\n",
       "\n",
       "    .dataframe thead th {\n",
       "        text-align: right;\n",
       "    }\n",
       "</style>\n",
       "<table border=\"1\" class=\"dataframe\">\n",
       "  <thead>\n",
       "    <tr style=\"text-align: right;\">\n",
       "      <th></th>\n",
       "      <th>userId</th>\n",
       "      <th>movieId</th>\n",
       "      <th>rating</th>\n",
       "      <th>timestamp</th>\n",
       "    </tr>\n",
       "  </thead>\n",
       "  <tbody>\n",
       "    <tr>\n",
       "      <th>0</th>\n",
       "      <td>1</td>\n",
       "      <td>1</td>\n",
       "      <td>4.0</td>\n",
       "      <td>964982703</td>\n",
       "    </tr>\n",
       "    <tr>\n",
       "      <th>1</th>\n",
       "      <td>1</td>\n",
       "      <td>3</td>\n",
       "      <td>4.0</td>\n",
       "      <td>964981247</td>\n",
       "    </tr>\n",
       "    <tr>\n",
       "      <th>2</th>\n",
       "      <td>1</td>\n",
       "      <td>6</td>\n",
       "      <td>4.0</td>\n",
       "      <td>964982224</td>\n",
       "    </tr>\n",
       "    <tr>\n",
       "      <th>3</th>\n",
       "      <td>1</td>\n",
       "      <td>47</td>\n",
       "      <td>5.0</td>\n",
       "      <td>964983815</td>\n",
       "    </tr>\n",
       "    <tr>\n",
       "      <th>4</th>\n",
       "      <td>1</td>\n",
       "      <td>50</td>\n",
       "      <td>5.0</td>\n",
       "      <td>964982931</td>\n",
       "    </tr>\n",
       "  </tbody>\n",
       "</table>\n",
       "</div>"
      ],
      "text/plain": [
       "   userId  movieId  rating  timestamp\n",
       "0       1        1     4.0  964982703\n",
       "1       1        3     4.0  964981247\n",
       "2       1        6     4.0  964982224\n",
       "3       1       47     5.0  964983815\n",
       "4       1       50     5.0  964982931"
      ]
     },
     "execution_count": 5,
     "metadata": {},
     "output_type": "execute_result"
    }
   ],
   "source": [
    "ratings_latest, movies_latest = import_datasets(path/'ml-latest-small')\n",
    "ratings_latest.head()"
   ]
  },
  {
   "cell_type": "markdown",
   "metadata": {},
   "source": [
    "## 2. Training the Model"
   ]
  },
  {
   "cell_type": "markdown",
   "metadata": {},
   "source": [
    "### 2.1 Static Learning Rate with No Regularization - Overfitting"
   ]
  },
  {
   "cell_type": "code",
   "execution_count": 7,
   "metadata": {},
   "outputs": [
    {
     "name": "stdout",
     "output_type": "stream",
     "text": [
      "   userId  movieId  rating\n",
      "0    50.0   2044.0     3.5\n",
      "1   569.0   2013.0     2.5\n",
      "2   291.0   1703.0     2.5\n",
      "3   433.0   1297.0     4.5\n",
      "4   247.0   8528.0     3.5\n",
      "5   552.0   1297.0     3.5\n",
      "6   248.0   6541.0     3.5\n",
      "7    73.0    906.0     5.0\n",
      "8    64.0   1502.0     4.0\n",
      "9   147.0   7354.0     3.5\n"
     ]
    }
   ],
   "source": [
    "ratings_data = CollabData(ratings_latest, test_size=0.2, bs=1024)\n",
    "ratings_data.show_batch()"
   ]
  },
  {
   "cell_type": "code",
   "execution_count": 8,
   "metadata": {},
   "outputs": [
    {
     "data": {
      "text/plain": [
       "EmbedNet(\n",
       "  (u): Embedding(610, 50)\n",
       "  (m): Embedding(9724, 50)\n",
       "  (d): Dropout(p=0, inplace=False)\n",
       "  (hidden_fc): Sequential(\n",
       "    (0): Linear(in_features=100, out_features=200, bias=True)\n",
       "    (1): ReLU()\n",
       "    (2): Dropout(p=0, inplace=False)\n",
       "    (3): Linear(in_features=200, out_features=100, bias=True)\n",
       "    (4): ReLU()\n",
       "    (5): Dropout(p=0, inplace=False)\n",
       "  )\n",
       "  (last_fc): Linear(in_features=100, out_features=1, bias=True)\n",
       ")"
      ]
     },
     "execution_count": 8,
     "metadata": {},
     "output_type": "execute_result"
    }
   ],
   "source": [
    "n_factors = 50\n",
    "embedding_dropout = 0\n",
    "hidden = [200, 100]\n",
    "dense_dropouts = [0]\n",
    "\n",
    "learn = CollabLearner(ratings_data, EmbedNet, n_factors=n_factors, embedding_dropout=embedding_dropout, hidden=hidden, dense_dropouts=dense_dropouts, normalize_batches=False)\n",
    "learn.model"
   ]
  },
  {
   "cell_type": "code",
   "execution_count": 9,
   "metadata": {
    "scrolled": true
   },
   "outputs": [
    {
     "name": "stdout",
     "output_type": "stream",
     "text": [
      "epoch: 0, train loss: 1.0006394386291504, validation loss: 0.9434366226196289\n",
      "epoch: 1, train loss: 0.9038151502609253, validation loss: 0.926081657409668\n",
      "epoch: 2, train loss: 0.8554949164390564, validation loss: 0.9164978861808777\n",
      "epoch: 3, train loss: 0.8119323253631592, validation loss: 0.9109472036361694\n",
      "epoch: 4, train loss: 0.7694435119628906, validation loss: 0.9216673970222473\n",
      "epoch: 5, train loss: 0.7306472659111023, validation loss: 0.9344915151596069\n",
      "epoch: 6, train loss: 0.6922268271446228, validation loss: 0.957053542137146\n",
      "epoch: 7, train loss: 0.6546737551689148, validation loss: 0.9541180729866028\n",
      "epoch: 8, train loss: 0.6180330514907837, validation loss: 0.975847601890564\n",
      "epoch: 9, train loss: 0.585289716720581, validation loss: 0.9824639558792114\n",
      "epoch: 10, train loss: 0.5473768711090088, validation loss: 1.0007137060165405\n",
      "epoch: 11, train loss: 0.5194960832595825, validation loss: 1.006813645362854\n",
      "epoch: 12, train loss: 0.49510666728019714, validation loss: 1.0121002197265625\n",
      "epoch: 13, train loss: 0.4674159288406372, validation loss: 1.016131043434143\n",
      "epoch: 14, train loss: 0.44278326630592346, validation loss: 1.023881196975708\n",
      "epoch: 15, train loss: 0.424498051404953, validation loss: 1.0338956117630005\n",
      "epoch: 16, train loss: 0.4049253761768341, validation loss: 1.0399754047393799\n",
      "epoch: 17, train loss: 0.3901738226413727, validation loss: 1.0425012111663818\n",
      "epoch: 18, train loss: 0.37263646721839905, validation loss: 1.0468851327896118\n",
      "epoch: 19, train loss: 0.3595448136329651, validation loss: 1.0564982891082764\n"
     ]
    }
   ],
   "source": [
    "learn.model.random_weights()\n",
    "\n",
    "n_epochs = 20\n",
    "lr = 5e-3\n",
    "wd = 0\n",
    "\n",
    "learn.fit(n_epochs, lr, wd)"
   ]
  },
  {
   "cell_type": "code",
   "execution_count": 10,
   "metadata": {
    "scrolled": false
   },
   "outputs": [
    {
     "data": {
      "image/png": "[encoded data removed]",
      "text/plain": [
       "<Figure size 432x288 with 1 Axes>"
      ]
     },
     "metadata": {
      "needs_background": "light"
     },
     "output_type": "display_data"
    }
   ],
   "source": [
    "learn.recorder.plot(return_fig=True).savefig(path/'losses_1.png')"
   ]
  },
  {
   "cell_type": "markdown",
   "metadata": {},
   "source": [
    "### 2.2 Static Learning Rate with Regularization"
   ]
  },
  {
   "cell_type": "code",
   "execution_count": 12,
   "metadata": {},
   "outputs": [],
   "source": [
    "ratings_data = CollabData(ratings_latest, test_size=0.2, bs=256)"
   ]
  },
  {
   "cell_type": "code",
   "execution_count": 33,
   "metadata": {},
   "outputs": [
    {
     "data": {
      "text/plain": [
       "EmbedNet(\n",
       "  (u): Embedding(610, 50)\n",
       "  (m): Embedding(9724, 50)\n",
       "  (d): Dropout(p=0.02, inplace=False)\n",
       "  (hidden_fc): Sequential(\n",
       "    (0): Linear(in_features=100, out_features=300, bias=True)\n",
       "    (1): ReLU()\n",
       "    (2): Dropout(p=0.5, inplace=False)\n",
       "    (3): Linear(in_features=300, out_features=200, bias=True)\n",
       "    (4): ReLU()\n",
       "    (5): Dropout(p=0.4, inplace=False)\n",
       "    (6): Linear(in_features=200, out_features=100, bias=True)\n",
       "    (7): ReLU()\n",
       "    (8): Dropout(p=0.3, inplace=False)\n",
       "  )\n",
       "  (last_fc): Linear(in_features=100, out_features=1, bias=True)\n",
       ")"
      ]
     },
     "execution_count": 33,
     "metadata": {},
     "output_type": "execute_result"
    }
   ],
   "source": [
    "n_factors = 50\n",
    "embedding_dropout = 0.02\n",
    "hidden = [300, 200, 100]\n",
    "dense_dropouts = [0.5, 0.4, 0.3]\n",
    "\n",
    "learn = CollabLearner(ratings_data, EmbedNet, n_factors=n_factors, embedding_dropout=embedding_dropout, hidden=hidden, dense_dropouts=dense_dropouts, normalize_batches=False)\n",
    "learn.model"
   ]
  },
  {
   "cell_type": "code",
   "execution_count": 34,
   "metadata": {},
   "outputs": [
    {
     "name": "stdout",
     "output_type": "stream",
     "text": [
      "epoch: 0, train loss: 1.020640254020691, validation loss: 0.9475709199905396\n",
      "epoch: 1, train loss: 0.9157619476318359, validation loss: 0.8986190557479858\n",
      "epoch: 2, train loss: 0.8678551912307739, validation loss: 0.87647545337677\n",
      "epoch: 3, train loss: 0.8448324203491211, validation loss: 0.8750568628311157\n",
      "epoch: 4, train loss: 0.8329213857650757, validation loss: 0.8723862767219543\n"
     ]
    }
   ],
   "source": [
    "learn.model.random_weights()\n",
    "\n",
    "n_epochs = 5\n",
    "lr = 3e-3\n",
    "wd = 5e-1\n",
    "\n",
    "learn.fit(n_epochs, lr, wd)"
   ]
  },
  {
   "cell_type": "code",
   "execution_count": 35,
   "metadata": {
    "scrolled": true
   },
   "outputs": [
    {
     "data": {
      "image/png": "[encoded data removed]",
      "text/plain": [
       "<Figure size 432x288 with 1 Axes>"
      ]
     },
     "metadata": {
      "needs_background": "light"
     },
     "output_type": "display_data"
    }
   ],
   "source": [
    "learn.recorder.plot(return_fig=True).savefig(path/'losses_2.png')"
   ]
  },
  {
   "cell_type": "markdown",
   "metadata": {},
   "source": [
    "### 2.3 Dynamic Learning Rate with Regularization"
   ]
  },
  {
   "cell_type": "code",
   "execution_count": 28,
   "metadata": {},
   "outputs": [],
   "source": [
    "ratings_data = CollabData(ratings_latest, test_size=0.2, bs=256)"
   ]
  },
  {
   "cell_type": "code",
   "execution_count": 29,
   "metadata": {},
   "outputs": [
    {
     "data": {
      "text/plain": [
       "EmbedNet(\n",
       "  (u): Embedding(610, 50)\n",
       "  (m): Embedding(9724, 50)\n",
       "  (d): Dropout(p=0.02, inplace=False)\n",
       "  (hidden_fc): Sequential(\n",
       "    (0): Linear(in_features=100, out_features=300, bias=True)\n",
       "    (1): ReLU()\n",
       "    (2): Dropout(p=0.6, inplace=False)\n",
       "    (3): Linear(in_features=300, out_features=200, bias=True)\n",
       "    (4): ReLU()\n",
       "    (5): Dropout(p=0.4, inplace=False)\n",
       "    (6): Linear(in_features=200, out_features=100, bias=True)\n",
       "    (7): ReLU()\n",
       "    (8): Dropout(p=0.3, inplace=False)\n",
       "  )\n",
       "  (last_fc): Linear(in_features=100, out_features=1, bias=True)\n",
       ")"
      ]
     },
     "execution_count": 29,
     "metadata": {},
     "output_type": "execute_result"
    }
   ],
   "source": [
    "n_factors = 50\n",
    "embedding_dropout = 0.02\n",
    "hidden = [300, 200, 100]\n",
    "dense_dropouts = [0.6, 0.4, 0.3]\n",
    "\n",
    "learn = CollabLearner(ratings_data, EmbedNet, n_factors=n_factors, embedding_dropout=embedding_dropout, hidden=hidden, dense_dropouts=dense_dropouts, normalize_batches=False)\n",
    "learn.model"
   ]
  },
  {
   "cell_type": "code",
   "execution_count": 31,
   "metadata": {
    "scrolled": true
   },
   "outputs": [
    {
     "name": "stdout",
     "output_type": "stream",
     "text": [
      "epoch: 0, train loss: 1.0508028268814087, validation loss: 0.9626069068908691\n",
      "epoch: 1, train loss: 0.9266564846038818, validation loss: 0.8990121483802795\n",
      "epoch: 2, train loss: 0.8661162257194519, validation loss: 0.8722942471504211\n",
      "epoch: 3, train loss: 0.829511821269989, validation loss: 0.8660961985588074\n",
      "epoch: 4, train loss: 0.7963228821754456, validation loss: 0.8650093674659729\n"
     ]
    }
   ],
   "source": [
    "learn.model.random_weights()\n",
    "\n",
    "n_epochs = 5\n",
    "lrs = [5e-3, 5e-3, 3e-3, 3e-3, 4e-3, 5e-3]\n",
    "wd = 5e-1\n",
    "\n",
    "learn.fit_one_cycle(cycle_len=n_epochs, lr_max=lrs, wd=wd, div_factor=5, final_div=7, pct_start=0.2, moms=(0.92, 0.88))"
   ]
  },
  {
   "cell_type": "code",
   "execution_count": 32,
   "metadata": {},
   "outputs": [
    {
     "data": {
      "image/png": "[encoded data removed]",
      "text/plain": [
       "<Figure size 432x288 with 1 Axes>"
      ]
     },
     "metadata": {
      "needs_background": "light"
     },
     "output_type": "display_data"
    }
   ],
   "source": [
    "learn.recorder.plot(return_fig=True).savefig(path/'losses_3.png')"
   ]
  },
  {
   "cell_type": "markdown",
   "metadata": {},
   "source": [
    "## 3. Predict"
   ]
  },
  {
   "cell_type": "code",
   "execution_count": 134,
   "metadata": {},
   "outputs": [
    {
     "data": {
      "text/plain": [
       "array([[3.85365057, 5.        ],\n",
       "       [3.82093   , 4.5       ],\n",
       "       [3.35521889, 4.        ],\n",
       "       ...,\n",
       "       [3.80756617, 4.5       ],\n",
       "       [3.6175766 , 3.        ],\n",
       "       [3.52774763, 3.        ]])"
      ]
     },
     "execution_count": 134,
     "metadata": {},
     "output_type": "execute_result"
    }
   ],
   "source": [
    "learn.get_preds('val')"
   ]
  }
 ],
 "metadata": {
  "kernelspec": {
   "display_name": "Python 3",
   "language": "python",
   "name": "python3"
  },
  "language_info": {
   "codemirror_mode": {
    "name": "ipython",
    "version": 3
   },
   "file_extension": ".py",
   "mimetype": "text/x-python",
   "name": "python",
   "nbconvert_exporter": "python",
   "pygments_lexer": "ipython3",
   "version": "3.6.9"
  }
 },
 "nbformat": 4,
 "nbformat_minor": 2
}
